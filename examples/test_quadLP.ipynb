{
 "cells": [
  {
   "cell_type": "markdown",
   "metadata": {},
   "source": [
    "# Standalone quad-precision LP solver interface"
   ]
  },
  {
   "cell_type": "code",
   "execution_count": 1,
   "metadata": {},
   "outputs": [],
   "source": [
    "from cobra.io import load_json_model\n",
    "from qminospy.solver import QMINOS\n",
    "import numpy as np\n",
    "\n",
    "solver = QMINOS()"
   ]
  },
  {
   "cell_type": "markdown",
   "metadata": {},
   "source": [
    "### Usually, can use  default solver options and just set\n",
    "`precision = 'quad'`\n",
    "(or 'dq' or 'dqq')\n",
    "for quad precision, and\n",
    "`precision = 'double'`\n",
    "for double precision"
   ]
  },
  {
   "cell_type": "code",
   "execution_count": 2,
   "metadata": {},
   "outputs": [],
   "source": [
    "#==================================================\n",
    "# Runtime options that stay constant for Double and Quad (or DQQ) are set here\n",
    "#==================================================\n",
    "# Double for all runs\n",
    "solver.opt_intdict['lp_d']['Expand frequency'] = 100000\n",
    "solver.opt_intdict['lp_d']['Scale option'] = 2\n",
    "solver.opt_realdict['lp_d']['Feasibility tol'] = 1e-7\n",
    "solver.opt_realdict['lp_d']['Optimality tol'] = 1e-7\n",
    "solver.opt_realdict['lp_d']['LU factor tol'] = 1.9\n",
    "solver.opt_realdict['lp_d']['LU update tol'] = 1.9\n",
    "\n",
    "# Quad of DQQ\n",
    "solver.opt_intdict['lp']['Expand frequency'] = 100000\n",
    "solver.opt_intdict['lp']['Scale option'] = 2\n",
    "solver.opt_realdict['lp']['Feasibility tol'] = 1e-15\n",
    "solver.opt_realdict['lp']['Optimality tol'] = 1e-15\n",
    "solver.opt_realdict['lp']['LU factor tol'] = 10.0\n",
    "solver.opt_realdict['lp']['LU update tol'] = 10.0"
   ]
  },
  {
   "cell_type": "code",
   "execution_count": 3,
   "metadata": {
    "scrolled": true
   },
   "outputs": [
    {
     "name": "stdout",
     "output_type": "stream",
     "text": [
      "Solving with Quad\n",
      "Getting MINOS parameters...\n",
      "Done in 0.820994 seconds with status 0\n",
      "Solving with Double\n",
      "Getting MINOS parameters...\n",
      "Done in 0.115483 seconds with status 0\n"
     ]
    }
   ],
   "source": [
    "#==================================================\n",
    "# Load model and extract matrices\n",
    "#==================================================\n",
    "import os\n",
    "filei = os.path.join('models','iJO1366.json')\n",
    "\n",
    "mdl = load_json_model(filei)\n",
    "mdl = mdl.to_array_based_model()\n",
    "A = mdl.S\n",
    "b = mdl.b\n",
    "c = mdl.objective_coefficients\n",
    "xl = mdl.lower_bounds\n",
    "xu = mdl.upper_bounds\n",
    "csense= mdl.constraint_sense\n",
    "\n",
    "#==================================================\n",
    "# Solve\n",
    "#==================================================\n",
    "# Quad solution\n",
    "print('Solving with Quad')\n",
    "xq,statq,hsq = solver.solvelp(A,b,c,xl,xu,csense,precision='quad')\n",
    "nRxns = len(c)\n",
    "fq = np.dot(c, xq[0:nRxns])\n",
    "\n",
    "# Double solution\n",
    "print('Solving with Double')\n",
    "xd,statd,hsd = solver.solvelp(A,b,c,xl,xu,csense,precision='double')\n",
    "fd = np.dot(c, xd[0:nRxns])\n",
    "\n",
    "# What was the objective?\n",
    "obj_rxn = str(mdl.objective)\n",
    "max_abs_c = max(abs(mdl.objective_coefficients))"
   ]
  },
  {
   "cell_type": "markdown",
   "metadata": {},
   "source": [
    "# What was the status of the solver?"
   ]
  },
  {
   "cell_type": "code",
   "execution_count": 4,
   "metadata": {},
   "outputs": [
    {
     "name": "stdout",
     "output_type": "stream",
     "text": [
      "('Quad status:', array(0))\n",
      "('Double status:', array(0))\n"
     ]
    }
   ],
   "source": [
    "print('Quad status:', statq)\n",
    "print('Double status:', statd)"
   ]
  },
  {
   "cell_type": "markdown",
   "metadata": {},
   "source": [
    "# By how much did objectives differ between DQQ and D?"
   ]
  },
  {
   "cell_type": "code",
   "execution_count": 5,
   "metadata": {},
   "outputs": [
    {
     "name": "stdout",
     "output_type": "stream",
     "text": [
      "Max objective difference between Quad and Double: 2.28928e-13\n"
     ]
    }
   ],
   "source": [
    "df = fq - fd\n",
    "print('Max objective difference between Quad and Double: %g'%df)"
   ]
  }
 ],
 "metadata": {
  "kernelspec": {
   "display_name": "Python 2",
   "language": "python",
   "name": "python2"
  },
  "language_info": {
   "codemirror_mode": {
    "name": "ipython",
    "version": 2
   },
   "file_extension": ".py",
   "mimetype": "text/x-python",
   "name": "python",
   "nbconvert_exporter": "python",
   "pygments_lexer": "ipython2",
   "version": "2.7.14"
  }
 },
 "nbformat": 4,
 "nbformat_minor": 1
}

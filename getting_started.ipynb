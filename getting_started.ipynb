{
 "cells": [
  {
   "cell_type": "markdown",
   "metadata": {
    "deletable": true,
    "editable": true
   },
   "source": [
    "# SolveME: getting started"
   ]
  },
  {
   "cell_type": "markdown",
   "metadata": {
    "deletable": true,
    "editable": true
   },
   "source": [
    "## Load the example model from solveme\n",
    "And make growth rate reaction bound by the variable, mu"
   ]
  },
  {
   "cell_type": "code",
   "execution_count": 1,
   "metadata": {
    "collapsed": false,
    "deletable": true,
    "editable": true
   },
   "outputs": [
    {
     "name": "stderr",
     "output_type": "stream",
     "text": [
      "/usr/lib/python2.7/site-packages/cobra/io/sbml3.py:24: UserWarning: Install lxml for faster SBML I/O\n",
      "  warn(\"Install lxml for faster SBML I/O\")\n"
     ]
    },
    {
     "name": "stdout",
     "output_type": "stream",
     "text": [
      "8757 16126\n",
      "mu mu\n"
     ]
    }
   ],
   "source": [
    "from cobrame.io.jsonme import load_json_me\n",
    "from cobrame import mu\n",
    "\n",
    "me = load_json_me('me_08222015.json')\n",
    "me.reactions.biomass_dilution.lower_bound = mu\n",
    "me.reactions.biomass_dilution.upper_bound = mu\n",
    "print(len(me.metabolites), len(me.reactions))\n",
    "print(me.reactions.biomass_dilution.lower_bound, me.reactions.biomass_dilution.upper_bound)"
   ]
  },
  {
   "cell_type": "code",
   "execution_count": 2,
   "metadata": {
    "collapsed": false,
    "deletable": true,
    "editable": true
   },
   "outputs": [
    {
     "name": "stdout",
     "output_type": "stream",
     "text": [
      "iter\tmuopt    \ta     \tb     \tmu1       \tstat\n",
      "Getting MINOS parameters from ME_NLP...\n",
      "1 0.0 0.0 1.0 1.0 1\n",
      "Getting MINOS parameters from ME_NLP...\n",
      "2 0.5 0.5 1.0 0.5 optimal\n",
      "Getting MINOS parameters from ME_NLP...\n",
      "3 0.75 0.75 1.0 0.75 optimal\n",
      "Getting MINOS parameters from ME_NLP...\n",
      "4 0.75 0.75 0.875 0.875 1\n",
      "Getting MINOS parameters from ME_NLP...\n",
      "5 0.8125 0.8125 0.875 0.8125 optimal\n",
      "Getting MINOS parameters from ME_NLP...\n",
      "6 0.84375 0.84375 0.875 0.84375 optimal\n",
      "Getting MINOS parameters from ME_NLP...\n",
      "7 0.84375 0.84375 0.859375 0.859375 1\n",
      "Getting MINOS parameters from ME_NLP...\n",
      "8 0.8515625 0.8515625 0.859375 0.8515625 optimal\n"
     ]
    },
    {
     "name": "stderr",
     "output_type": "stream",
     "text": [
      "qminospy/me2.py:934 \u001b[1;31mUserWarning\u001b[0m: lb for biomass_dilution is mu-dependent. Setting to 0.0\n",
      "qminospy/me2.py:937 \u001b[1;31mUserWarning\u001b[0m: ub for biomass_dilution is mu-dependent. Setting to 1000.0\n"
     ]
    },
    {
     "name": "stdout",
     "output_type": "stream",
     "text": [
      "Using provided basis of length 30141\n",
      "Getting MINOS parameters from ME_NLP...\n",
      "Time elapsed:  6.62909793854 seconds\n",
      "Status:  0\n",
      "CPU times: user 1min 41s, sys: 200 ms, total: 1min 41s\n",
      "Wall time: 1min 41s\n"
     ]
    }
   ],
   "source": [
    "from qminospy.me2 import ME_NLP\n",
    "\n",
    "solver = ME_NLP(me)\n",
    "%time x,stat,hs = solver.solvenlp()"
   ]
  },
  {
   "cell_type": "code",
   "execution_count": 3,
   "metadata": {
    "collapsed": false,
    "deletable": true,
    "editable": true
   },
   "outputs": [
    {
     "name": "stdout",
     "output_type": "stream",
     "text": [
      "Max growth rate: 0.855663889196 1/h\n"
     ]
    }
   ],
   "source": [
    "print('Max growth rate:', me.reactions.biomass_dilution.x, '1/h')"
   ]
  }
 ],
 "metadata": {
  "kernelspec": {
   "display_name": "Python 2",
   "language": "python",
   "name": "python2"
  },
  "language_info": {
   "codemirror_mode": {
    "name": "ipython",
    "version": 2
   },
   "file_extension": ".py",
   "mimetype": "text/x-python",
   "name": "python",
   "nbconvert_exporter": "python",
   "pygments_lexer": "ipython2",
   "version": "2.7.13"
  }
 },
 "nbformat": 4,
 "nbformat_minor": 0
}
